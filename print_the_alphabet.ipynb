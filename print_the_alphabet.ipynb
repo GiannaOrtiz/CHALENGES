{
  "nbformat": 4,
  "nbformat_minor": 0,
  "metadata": {
    "colab": {
      "provenance": [],
      "include_colab_link": true
    },
    "kernelspec": {
      "name": "python3",
      "display_name": "Python 3"
    },
    "language_info": {
      "name": "python"
    }
  },
  "cells": [
    {
      "cell_type": "markdown",
      "metadata": {
        "id": "view-in-github",
        "colab_type": "text"
      },
      "source": [
        "<a href=\"https://colab.research.google.com/github/GiannaOrtiz/CHALENGES/blob/main/print_the_alphabet.ipynb\" target=\"_parent\"><img src=\"https://colab.research.google.com/assets/colab-badge.svg\" alt=\"Open In Colab\"/></a>"
      ]
    },
    {
      "cell_type": "code",
      "execution_count": 16,
      "metadata": {
        "colab": {
          "base_uri": "https://localhost:8080/"
        },
        "id": "ZEFAN1SCH14B",
        "outputId": "c52d0ffa-168c-41a3-c541-bc0a53cd62a8"
      },
      "outputs": [
        {
          "output_type": "stream",
          "name": "stdout",
          "text": [
            "a\n",
            "b\n",
            "c\n",
            "d\n",
            "e\n",
            "f\n",
            "g\n",
            "h\n",
            "i\n",
            "j\n",
            "k\n",
            "l\n",
            "m\n",
            "n\n",
            "o\n",
            "p\n",
            "q\n",
            "r\n",
            "s\n",
            "t\n",
            "u\n",
            "v\n",
            "w\n",
            "x\n",
            "y\n",
            "z\n",
            "Now I know that you know that I know my ABCs\n"
          ]
        }
      ],
      "source": [
        "import time\n",
        "\n",
        "index = 0\n",
        "list = [\"a\",\"b\",\"c\",\"d\",\"e\",\"f\",\"g\",\"h\",\"i\",\"j\",\"k\",\"l\",\"m\",\"n\",\"o\",\"p\",\"q\",\"r\",\"s\",\"t\",\"u\",\"v\",\"w\",\"x\",\"y\",\"z\"]\n",
        "#print(alphabet[0])\n",
        "\n",
        "# DIRECTIONS: Print all the letters of the alphabet using the array above and a WHILE loop.\n",
        "\n",
        "while index < 26:\n",
        "  print(list[index])\n",
        "  index += 1\n",
        "  time.sleep(0.25)\n",
        "print(\"Now I know that you know that I know my ABCs\")"
      ]
    }
  ]
}